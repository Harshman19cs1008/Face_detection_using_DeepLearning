{
 "cells": [
  {
   "cell_type": "markdown",
   "id": "f800821d",
   "metadata": {},
   "source": [
    "\n"
   ]
  },
  {
   "cell_type": "code",
   "execution_count": null,
   "id": "da66efc0",
   "metadata": {},
   "outputs": [],
   "source": [
    "# Importing necessary libaries\n",
    "# for face Detection I used mtcnn library and for vedio processing open-cv\n",
    "from mtcnn import MTCNN\n",
    "import cv2\n",
    "import numpy as np\n",
    " \n",
    "# here I  Created face - detector model\n",
    "detector=MTCNN() \n",
    "# Capturing the vedio from file\n",
    "cap = cv2.VideoCapture('faces01 (1).mp4') \n",
    "\n",
    "# Define the codec and create VideoWriter object \n",
    "fourcc = cv2.VideoWriter_fourcc(*'XVID')  \n",
    "out = cv2.VideoWriter('output.avi',fourcc, 20.0, (1280,720))  \n",
    "\n",
    "num=0 # initially number of faces are 0 in the frame\n",
    "\n",
    "# Capture frames continuously\n",
    "while True: \n",
    "    # Capture frame-by-frame   \n",
    "    ret, frame = cap.read()  \n",
    "    #detect faces in the frame \n",
    "    output=detector.detect_faces(frame)\n",
    "    #iterate to plot box and count faces in the frame\n",
    "    for i in output:\n",
    "        #x,y,width and height of box  \n",
    "        x,y,w,h=i['box']\n",
    "        #draw rectangle on face detected\n",
    "        cv2.rectangle(frame,pt1=(x,y),pt2=(x+w,y+h),color=(0,255,0),thickness=1)\n",
    "    # count total num of faces- detected  in the frame    \n",
    "    cv2.putText(frame,f\"Total_Faces:{num}\",org=(1100,70),fontFace= 1,fontScale = 1,color = (255,255,255),thickness = 2)\n",
    "    # count total num of faces - detected in all frame\n",
    "    cv2.putText(frame,f\"Faces_Detected:{len(output)}\",org=(1100,50),fontFace= 1,fontScale = 1,color = (255, 255,255),thickness = 2)  \n",
    "    #sum num of faces detected in the frames\n",
    "    num+=len(output)  \n",
    "    #display the resulting frame\n",
    "    cv2.imshow('window',frame) \n",
    "    #save the resulting frame\n",
    "    out.write(frame)\n",
    "    # exit when 'q' is pressed\n",
    "    if cv2.waitKey(1) & 0xFF == ord('q'):  \n",
    "        break  \n",
    "# Release everything if job is finished  \n",
    "cap.release()  \n",
    "out.release()\n",
    "cv2.destroyAllWindows() "
   ]
  }
 ],
 "metadata": {
  "kernelspec": {
   "display_name": "Python 3 (ipykernel)",
   "language": "python",
   "name": "python3"
  },
  "language_info": {
   "codemirror_mode": {
    "name": "ipython",
    "version": 3
   },
   "file_extension": ".py",
   "mimetype": "text/x-python",
   "name": "python",
   "nbconvert_exporter": "python",
   "pygments_lexer": "ipython3",
   "version": "3.9.13"
  }
 },
 "nbformat": 4,
 "nbformat_minor": 5
}
